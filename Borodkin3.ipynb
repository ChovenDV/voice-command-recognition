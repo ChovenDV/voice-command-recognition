{
  "nbformat": 4,
  "nbformat_minor": 0,
  "metadata": {
    "colab": {
      "provenance": [],
      "mount_file_id": "1fPSIH6X-NGf_a4cxLRg_eKFCYbgSkpkC",
      "authorship_tag": "ABX9TyOftyIHmAyyx9r06wsGXAjD",
      "include_colab_link": true
    },
    "kernelspec": {
      "name": "python3",
      "display_name": "Python 3"
    },
    "language_info": {
      "name": "python"
    }
  },
  "cells": [
    {
      "cell_type": "markdown",
      "metadata": {
        "id": "view-in-github",
        "colab_type": "text"
      },
      "source": [
        "<a href=\"https://colab.research.google.com/github/ChovenDV/voice-command-recognition/blob/main/Borodkin3.ipynb\" target=\"_parent\"><img src=\"https://colab.research.google.com/assets/colab-badge.svg\" alt=\"Open In Colab\"/></a>"
      ]
    },
    {
      "cell_type": "code",
      "source": [
        "import os\n",
        "import wave\n",
        "import soundfile as sf\n",
        "from array import array\n",
        "#import sys\n",
        "import numpy as np\n",
        "import matplotlib.pyplot as plt\n",
        "import scipy.signal as sig\n",
        "from scipy.fft import fft, ifft"
      ],
      "metadata": {
        "id": "yqOHBo_UILRv"
      },
      "execution_count": null,
      "outputs": []
    },
    {
      "cell_type": "code",
      "source": [
        "import librosa.core as core\n",
        "import librosa.feature as ftr\n",
        "import librosa.sequence as seq\n",
        "\n",
        "import timeit\n",
        "\n",
        "import scipy as sc\n",
        "import soundfile as sf\n",
        "import numpy as np\n",
        "import matplotlib.pyplot as plt\n",
        "# import fastdtw as fd\n",
        "\n",
        "import sys\n",
        "import os\n",
        "import random as rnd\n",
        "\n",
        "from sklearn.preprocessing import LabelBinarizer\n",
        "from sklearn.model_selection import train_test_split\n",
        "\n",
        "\n",
        "# from tensorflow.keras import layers\n",
        "# from tensorflow.keras import Sequential\n",
        "# from tensorflow.keras.layers import Conv1D, Conv2D, MaxPooling2D, Flatten, Dense, Dropout, Activation, BatchNormalization, AveragePooling2D\n",
        "# from tensorflow.keras.optimizers import SGD, RMSprop, Adam\n",
        "# # import tensorflow_datasets as tfds  # pip install tensorflow-datasets\n",
        "import tensorflow as tf\n",
        "# import logging\n",
        "#\n",
        "# from tensorflow.keras.models import Sequential"
      ],
      "metadata": {
        "id": "E7R2Uc4SLmhT"
      },
      "execution_count": null,
      "outputs": []
    },
    {
      "cell_type": "code",
      "source": [
        "#2.1 загрузка речевой информации из файла формата wav\n",
        "\n",
        "path_to_folder = '/content/drive/MyDrive/Colab Notebooks/Borodkin2/'\n",
        "filename = 'Chrom.wav'\n",
        "\n",
        "types = {\n",
        "    1: np.int8,\n",
        "    2: np.int16,\n",
        "    4: np.int32\n",
        "}\n",
        "frame_time = 0.01\n",
        "frame_shift = 0.5\n",
        "wav = wave.open(path_to_folder+filename, mode=\"r\")\n",
        "_, sampwidth, sr, nframes,_, _ = wav.getparams()\n",
        "#ампллитуда, частота кадров, количество кадров\n",
        "content = wav.readframes(nframes)\n",
        "y = np.frombuffer(content, dtype=types[sampwidth])\n",
        "print('частота дискретизации:', sr)\n",
        "print('кол-во отсчетов:',nframes)"
      ],
      "metadata": {
        "colab": {
          "base_uri": "https://localhost:8080/"
        },
        "id": "wgB74QKPJ0si",
        "outputId": "5070cefe-af40-4b4a-e2c6-82a8eb09b8c0"
      },
      "execution_count": null,
      "outputs": [
        {
          "output_type": "stream",
          "name": "stdout",
          "text": [
            "частота дискретизации: 44100\n",
            "кол-во отсчетов: 1050624\n"
          ]
        }
      ]
    },
    {
      "cell_type": "code",
      "source": [
        "dictionary = ['Chrom', 'Exel', 'FireFox', 'Paint', 'Putty', 'Word', 'Блокнот', 'Календарь', 'Калькулятор', 'Консоль', 'Проводник']\n",
        "\n",
        "# dictionary = ['Вперед']\n",
        "path = '/content/drive/MyDrive/Colab Notebooks/Borodkin2/'\n",
        "files = os.listdir(path)\n",
        "frame_time = 0.02\n",
        "frame_shift = 0.0\n",
        "n_mfcc = 3\n",
        "dct_type = 2\n",
        "norm = 'ortho'"
      ],
      "metadata": {
        "id": "cj_-aoABJ0vq"
      },
      "execution_count": null,
      "outputs": []
    },
    {
      "cell_type": "code",
      "source": [
        "\n",
        "f_ind = 0\n",
        "all_data = []\n",
        "dataGraph = []\n",
        "word_count=[]\n",
        "for w_ind in range(len(dictionary)):\n",
        "    filename = dictionary[w_ind]\n",
        "    w_count = 0\n",
        "    f_ind_array = []\n",
        "    for f in range(len(files)):\n",
        "        if files[f].find(filename) >= 0:\n",
        "\n",
        "            # fname = path + filename + \".wav\"\n",
        "            fname = path + files[f]\n",
        "            y_int, sr = sf.read(file=fname, dtype='int16')\n",
        "\n",
        "            # print(y_int[0:441])\n",
        "            y = [0] * len(y_int)\n",
        "            for i in range(len(y_int)):\n",
        "                y[i] = float(y_int[i])\n",
        "\n",
        "            y = np.array(y_int, dtype='float32')\n",
        "            frameWidth = int(frame_time * sr)\n",
        "            frameShift = int(frame_shift * frameWidth)\n",
        "            df = frameWidth - frameShift\n",
        "            frameCount = int(len(y) / df) - 1\n",
        "            # frameCount2 = int(len(y) / frameWidth)\n",
        "            frameCount2 = int(frameWidth / df) * (int(len(y) / frameWidth) - 1) + 1\n",
        "\n",
        "            wnd = np.hanning(frameWidth)\n",
        "            # print(frameCount2)\n",
        "            # print(fname)\n",
        "            # print(len(y))\n",
        "            sh = 0\n",
        "\n",
        "            Mfccs = ftr.mfcc(y=y, sr=sr, n_mfcc=n_mfcc, hop_length=df, win_length=frameWidth, window=wnd, dct_type=dct_type)\n",
        "\n",
        "            Mfccs = Mfccs.ravel(order='F')\n",
        "            # Mfccs.reshape((1,(frameCount2 +1)* n_mfcc))\n",
        "\n",
        "            # plt.plot(Mfccs)\n",
        "            # plt.show()\n",
        "            # # print(Mfccs)\n",
        "            # sys.exit(-1)\n",
        "\n",
        "            S = core.power_to_db(ftr.melspectrogram(y=y, sr=sr, hop_length=len(y) + 1, win_length=frameWidth, window=wnd))\n",
        "            M = sc.fftpack.dct(S, axis=0, type=dct_type, norm=norm)[:n_mfcc]\n",
        "            all_data.append({'n': w_ind,'filename':filename,'fname':fname,'mfccs_fr':Mfccs, 'mfcc': M.ravel()[2:n_mfcc]})\n",
        "\n",
        "\n",
        "            if (w_count == 0):\n",
        "                dataGraph.append({'n': w_ind,'filename':filename,'fname':fname,'mfccs_fr':Mfccs, 'mfcc': M.ravel()[2:n_mfcc]})\n",
        "\n",
        "            f_ind_array.append(f_ind)\n",
        "            f_ind += 1\n",
        "            w_count += 1\n",
        "\n",
        "    word_count.append({'fcount': w_count, 'findexes':f_ind_array})\n"
      ],
      "metadata": {
        "id": "mqeQ-fNyJ0zS"
      },
      "execution_count": null,
      "outputs": []
    },
    {
      "cell_type": "code",
      "source": [
        "\n",
        "plt.figure()\n",
        "for k in range(1):\n",
        "    plt.plot(dataGraph[k]['mfccs_fr'])\n",
        "\n"
      ],
      "metadata": {
        "colab": {
          "base_uri": "https://localhost:8080/",
          "height": 265
        },
        "id": "BQta8GDJJ02w",
        "outputId": "c1de04f4-1ffc-4b5d-f75b-091a0bbf258d"
      },
      "execution_count": null,
      "outputs": [
        {
          "output_type": "display_data",
          "data": {
            "text/plain": [
              "<Figure size 432x288 with 1 Axes>"
            ],
            "image/png": "[encoded data removed]"
          },
          "metadata": {
            "needs_background": "light"
          }
        }
      ]
    },
    {
      "cell_type": "code",
      "source": [
        "\n",
        "# sys.exit(-1)\n",
        "\n",
        "mfcc_count = 0\n",
        "for f_ind in range(len(all_data)):\n",
        "    if len(all_data[f_ind]['mfccs_fr']) > mfcc_count:\n",
        "        mfcc_count = len(all_data[f_ind]['mfccs_fr'])\n",
        "data = np.ndarray(shape=[len(all_data), mfcc_count])\n",
        "\n",
        "labels = np.ndarray(shape=[len(all_data), 1])\n",
        "for i in range(len(data)):\n",
        "    labels[i] = all_data[i]['n']\n",
        "    for j in range(len(all_data[i]['mfccs_fr'])):\n",
        "        data[i,j] = all_data[i]['mfccs_fr'][j]\n"
      ],
      "metadata": {
        "id": "pBx-aHyMJ06C"
      },
      "execution_count": null,
      "outputs": []
    },
    {
      "cell_type": "code",
      "source": [],
      "metadata": {
        "id": "1SoYFjQDJ088"
      },
      "execution_count": null,
      "outputs": []
    },
    {
      "cell_type": "code",
      "source": [
        "s = 'aafaaa'\n",
        "print(s.rfind('f'))"
      ],
      "metadata": {
        "colab": {
          "base_uri": "https://localhost:8080/"
        },
        "id": "PUlajI0NDH4K",
        "outputId": "ac805873-2529-4d03-a0aa-224346393e1a"
      },
      "execution_count": null,
      "outputs": [
        {
          "output_type": "stream",
          "name": "stdout",
          "text": [
            "2\n"
          ]
        }
      ]
    },
    {
      "cell_type": "code",
      "source": [
        "s = 'In {0}, someone paid {1}{2} for two pizzas.'\n",
        "year = 2010\n",
        "price = 10\n",
        "num = 'k'\n",
        "print(s.format(year, price, num))"
      ],
      "metadata": {
        "colab": {
          "base_uri": "https://localhost:8080/"
        },
        "id": "qNAHPYJvDH5n",
        "outputId": "768d9c78-5b20-48b8-b173-bf1e4bfd1097"
      },
      "execution_count": null,
      "outputs": [
        {
          "output_type": "stream",
          "name": "stdout",
          "text": [
            "In 2010, someone paid 10k for two pizzas.\n"
          ]
        }
      ]
    },
    {
      "cell_type": "code",
      "source": [
        "chars = [c for c in 'abcdefg']\n",
        "print(chars)"
      ],
      "metadata": {
        "id": "WP4ny8DNDH95",
        "outputId": "a469b0c1-dced-4ce0-bcf8-58688196ee74",
        "colab": {
          "base_uri": "https://localhost:8080/"
        }
      },
      "execution_count": null,
      "outputs": [
        {
          "output_type": "stream",
          "name": "stdout",
          "text": [
            "['a', 'b', 'c', 'd', 'e', 'f', 'g']\n"
          ]
        }
      ]
    },
    {
      "cell_type": "code",
      "source": [],
      "metadata": {
        "id": "ksce38AxDH_0"
      },
      "execution_count": null,
      "outputs": []
    },
    {
      "cell_type": "code",
      "source": [],
      "metadata": {
        "id": "6ooKFYQTDIEF"
      },
      "execution_count": null,
      "outputs": []
    },
    {
      "cell_type": "code",
      "source": [],
      "metadata": {
        "id": "wuQP968cDIF6"
      },
      "execution_count": null,
      "outputs": []
    },
    {
      "cell_type": "code",
      "source": [],
      "metadata": {
        "id": "TST03eyhDIKZ"
      },
      "execution_count": null,
      "outputs": []
    },
    {
      "cell_type": "code",
      "source": [],
      "metadata": {
        "id": "SibVzBQcDIMK"
      },
      "execution_count": null,
      "outputs": []
    },
    {
      "cell_type": "code",
      "source": [],
      "metadata": {
        "id": "M8NsDs6rDIQr"
      },
      "execution_count": null,
      "outputs": []
    },
    {
      "cell_type": "code",
      "source": [],
      "metadata": {
        "id": "2KqgalZkDITj"
      },
      "execution_count": null,
      "outputs": []
    },
    {
      "cell_type": "code",
      "source": [],
      "metadata": {
        "id": "rQKjlOkVJ1B5"
      },
      "execution_count": null,
      "outputs": []
    }
  ]
}